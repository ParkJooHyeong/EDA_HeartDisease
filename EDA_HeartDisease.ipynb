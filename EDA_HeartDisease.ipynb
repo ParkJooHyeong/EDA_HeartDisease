{
 "cells": [
  {
   "cell_type": "code",
   "execution_count": 8,
   "metadata": {},
   "outputs": [],
   "source": [
    "import pandas as pd\n",
    "import matplotlib.pyplot as plt\n",
    "import numpy as np\n",
    "# import seaborn as sns"
   ]
  },
  {
   "cell_type": "markdown",
   "metadata": {},
   "source": [
    "## Load Data"
   ]
  },
  {
   "cell_type": "code",
   "execution_count": 9,
   "metadata": {},
   "outputs": [
    {
     "data": {
      "text/html": [
       "<div>\n",
       "<style scoped>\n",
       "    .dataframe tbody tr th:only-of-type {\n",
       "        vertical-align: middle;\n",
       "    }\n",
       "\n",
       "    .dataframe tbody tr th {\n",
       "        vertical-align: top;\n",
       "    }\n",
       "\n",
       "    .dataframe thead th {\n",
       "        text-align: right;\n",
       "    }\n",
       "</style>\n",
       "<table border=\"1\" class=\"dataframe\">\n",
       "  <thead>\n",
       "    <tr style=\"text-align: right;\">\n",
       "      <th></th>\n",
       "      <th>male</th>\n",
       "      <th>age</th>\n",
       "      <th>education</th>\n",
       "      <th>currentSmoker</th>\n",
       "      <th>cigsPerDay</th>\n",
       "      <th>BPMeds</th>\n",
       "      <th>prevalentStroke</th>\n",
       "      <th>prevalentHyp</th>\n",
       "      <th>diabetes</th>\n",
       "      <th>totChol</th>\n",
       "      <th>sysBP</th>\n",
       "      <th>diaBP</th>\n",
       "      <th>BMI</th>\n",
       "      <th>heartRate</th>\n",
       "      <th>glucose</th>\n",
       "      <th>TenYearCHD</th>\n",
       "    </tr>\n",
       "  </thead>\n",
       "  <tbody>\n",
       "    <tr>\n",
       "      <th>0</th>\n",
       "      <td>1</td>\n",
       "      <td>39</td>\n",
       "      <td>4.0</td>\n",
       "      <td>0</td>\n",
       "      <td>0.0</td>\n",
       "      <td>0.0</td>\n",
       "      <td>0</td>\n",
       "      <td>0</td>\n",
       "      <td>0</td>\n",
       "      <td>195.0</td>\n",
       "      <td>106.0</td>\n",
       "      <td>70.0</td>\n",
       "      <td>26.97</td>\n",
       "      <td>80.0</td>\n",
       "      <td>77.0</td>\n",
       "      <td>0</td>\n",
       "    </tr>\n",
       "    <tr>\n",
       "      <th>1</th>\n",
       "      <td>0</td>\n",
       "      <td>46</td>\n",
       "      <td>2.0</td>\n",
       "      <td>0</td>\n",
       "      <td>0.0</td>\n",
       "      <td>0.0</td>\n",
       "      <td>0</td>\n",
       "      <td>0</td>\n",
       "      <td>0</td>\n",
       "      <td>250.0</td>\n",
       "      <td>121.0</td>\n",
       "      <td>81.0</td>\n",
       "      <td>28.73</td>\n",
       "      <td>95.0</td>\n",
       "      <td>76.0</td>\n",
       "      <td>0</td>\n",
       "    </tr>\n",
       "    <tr>\n",
       "      <th>2</th>\n",
       "      <td>1</td>\n",
       "      <td>48</td>\n",
       "      <td>1.0</td>\n",
       "      <td>1</td>\n",
       "      <td>20.0</td>\n",
       "      <td>0.0</td>\n",
       "      <td>0</td>\n",
       "      <td>0</td>\n",
       "      <td>0</td>\n",
       "      <td>245.0</td>\n",
       "      <td>127.5</td>\n",
       "      <td>80.0</td>\n",
       "      <td>25.34</td>\n",
       "      <td>75.0</td>\n",
       "      <td>70.0</td>\n",
       "      <td>0</td>\n",
       "    </tr>\n",
       "    <tr>\n",
       "      <th>3</th>\n",
       "      <td>0</td>\n",
       "      <td>61</td>\n",
       "      <td>3.0</td>\n",
       "      <td>1</td>\n",
       "      <td>30.0</td>\n",
       "      <td>0.0</td>\n",
       "      <td>0</td>\n",
       "      <td>1</td>\n",
       "      <td>0</td>\n",
       "      <td>225.0</td>\n",
       "      <td>150.0</td>\n",
       "      <td>95.0</td>\n",
       "      <td>28.58</td>\n",
       "      <td>65.0</td>\n",
       "      <td>103.0</td>\n",
       "      <td>1</td>\n",
       "    </tr>\n",
       "    <tr>\n",
       "      <th>4</th>\n",
       "      <td>0</td>\n",
       "      <td>46</td>\n",
       "      <td>3.0</td>\n",
       "      <td>1</td>\n",
       "      <td>23.0</td>\n",
       "      <td>0.0</td>\n",
       "      <td>0</td>\n",
       "      <td>0</td>\n",
       "      <td>0</td>\n",
       "      <td>285.0</td>\n",
       "      <td>130.0</td>\n",
       "      <td>84.0</td>\n",
       "      <td>23.10</td>\n",
       "      <td>85.0</td>\n",
       "      <td>85.0</td>\n",
       "      <td>0</td>\n",
       "    </tr>\n",
       "  </tbody>\n",
       "</table>\n",
       "</div>"
      ],
      "text/plain": [
       "   male  age  education  currentSmoker  cigsPerDay  BPMeds  prevalentStroke  \\\n",
       "0     1   39        4.0              0         0.0     0.0                0   \n",
       "1     0   46        2.0              0         0.0     0.0                0   \n",
       "2     1   48        1.0              1        20.0     0.0                0   \n",
       "3     0   61        3.0              1        30.0     0.0                0   \n",
       "4     0   46        3.0              1        23.0     0.0                0   \n",
       "\n",
       "   prevalentHyp  diabetes  totChol  sysBP  diaBP    BMI  heartRate  glucose  \\\n",
       "0             0         0    195.0  106.0   70.0  26.97       80.0     77.0   \n",
       "1             0         0    250.0  121.0   81.0  28.73       95.0     76.0   \n",
       "2             0         0    245.0  127.5   80.0  25.34       75.0     70.0   \n",
       "3             1         0    225.0  150.0   95.0  28.58       65.0    103.0   \n",
       "4             0         0    285.0  130.0   84.0  23.10       85.0     85.0   \n",
       "\n",
       "   TenYearCHD  \n",
       "0           0  \n",
       "1           0  \n",
       "2           0  \n",
       "3           1  \n",
       "4           0  "
      ]
     },
     "execution_count": 9,
     "metadata": {},
     "output_type": "execute_result"
    }
   ],
   "source": [
    "data = pd.read_csv(\"framingham.csv\")\n",
    "data.head(5)"
   ]
  },
  {
   "cell_type": "code",
   "execution_count": 10,
   "metadata": {},
   "outputs": [
    {
     "data": {
      "text/plain": [
       "(4238, 16)"
      ]
     },
     "execution_count": 10,
     "metadata": {},
     "output_type": "execute_result"
    }
   ],
   "source": [
    "data.shape"
   ]
  },
  {
   "cell_type": "code",
   "execution_count": 11,
   "metadata": {},
   "outputs": [
    {
     "data": {
      "text/plain": [
       "Index(['male', 'age', 'education', 'currentSmoker', 'cigsPerDay', 'BPMeds',\n",
       "       'prevalentStroke', 'prevalentHyp', 'diabetes', 'totChol', 'sysBP',\n",
       "       'diaBP', 'BMI', 'heartRate', 'glucose', 'TenYearCHD'],\n",
       "      dtype='object')"
      ]
     },
     "execution_count": 11,
     "metadata": {},
     "output_type": "execute_result"
    }
   ],
   "source": [
    "col = data.columns\n",
    "col"
   ]
  },
  {
   "cell_type": "markdown",
   "metadata": {},
   "source": [
    "## 데이터 확인"
   ]
  },
  {
   "cell_type": "code",
   "execution_count": 12,
   "metadata": {},
   "outputs": [
    {
     "name": "stdout",
     "output_type": "stream",
     "text": [
      "<class 'pandas.core.frame.DataFrame'>\n",
      "RangeIndex: 4238 entries, 0 to 4237\n",
      "Data columns (total 16 columns):\n",
      " #   Column           Non-Null Count  Dtype  \n",
      "---  ------           --------------  -----  \n",
      " 0   male             4238 non-null   int64  \n",
      " 1   age              4238 non-null   int64  \n",
      " 2   education        4133 non-null   float64\n",
      " 3   currentSmoker    4238 non-null   int64  \n",
      " 4   cigsPerDay       4209 non-null   float64\n",
      " 5   BPMeds           4185 non-null   float64\n",
      " 6   prevalentStroke  4238 non-null   int64  \n",
      " 7   prevalentHyp     4238 non-null   int64  \n",
      " 8   diabetes         4238 non-null   int64  \n",
      " 9   totChol          4188 non-null   float64\n",
      " 10  sysBP            4238 non-null   float64\n",
      " 11  diaBP            4238 non-null   float64\n",
      " 12  BMI              4219 non-null   float64\n",
      " 13  heartRate        4237 non-null   float64\n",
      " 14  glucose          3850 non-null   float64\n",
      " 15  TenYearCHD       4238 non-null   int64  \n",
      "dtypes: float64(9), int64(7)\n",
      "memory usage: 529.9 KB\n"
     ]
    }
   ],
   "source": [
    "data.info()"
   ]
  },
  {
   "cell_type": "markdown",
   "metadata": {},
   "source": [
    "- 전부 수치화된 데이터만 있는 것을 확인"
   ]
  },
  {
   "cell_type": "code",
   "execution_count": 13,
   "metadata": {},
   "outputs": [
    {
     "data": {
      "text/plain": [
       "male                 0\n",
       "age                  0\n",
       "education          105\n",
       "currentSmoker        0\n",
       "cigsPerDay          29\n",
       "BPMeds              53\n",
       "prevalentStroke      0\n",
       "prevalentHyp         0\n",
       "diabetes             0\n",
       "totChol             50\n",
       "sysBP                0\n",
       "diaBP                0\n",
       "BMI                 19\n",
       "heartRate            1\n",
       "glucose            388\n",
       "TenYearCHD           0\n",
       "dtype: int64"
      ]
     },
     "execution_count": 13,
     "metadata": {},
     "output_type": "execute_result"
    }
   ],
   "source": [
    "data.isna().sum()"
   ]
  },
  {
   "cell_type": "markdown",
   "metadata": {},
   "source": [
    "- Nan값 혹은 Null이 있는 Column: education, cigsPerDay, BPMeds, totChol, BMI, heartRate, glucose"
   ]
  },
  {
   "cell_type": "code",
   "execution_count": 14,
   "metadata": {},
   "outputs": [
    {
     "data": {
      "text/plain": [
       "0"
      ]
     },
     "execution_count": 14,
     "metadata": {},
     "output_type": "execute_result"
    }
   ],
   "source": [
    "data.duplicated().sum()"
   ]
  },
  {
   "cell_type": "markdown",
   "metadata": {},
   "source": [
    "- 중복된 데이터행이 없다는 것을 확인"
   ]
  },
  {
   "cell_type": "code",
   "execution_count": 15,
   "metadata": {},
   "outputs": [],
   "source": [
    "data.dropna(inplace=True) # dropna를 활용해 nan값 삭제"
   ]
  },
  {
   "cell_type": "code",
   "execution_count": 16,
   "metadata": {},
   "outputs": [
    {
     "data": {
      "text/plain": [
       "male               0\n",
       "age                0\n",
       "education          0\n",
       "currentSmoker      0\n",
       "cigsPerDay         0\n",
       "BPMeds             0\n",
       "prevalentStroke    0\n",
       "prevalentHyp       0\n",
       "diabetes           0\n",
       "totChol            0\n",
       "sysBP              0\n",
       "diaBP              0\n",
       "BMI                0\n",
       "heartRate          0\n",
       "glucose            0\n",
       "TenYearCHD         0\n",
       "dtype: int64"
      ]
     },
     "execution_count": 16,
     "metadata": {},
     "output_type": "execute_result"
    }
   ],
   "source": [
    "data.isna().sum()"
   ]
  },
  {
   "cell_type": "code",
   "execution_count": 17,
   "metadata": {},
   "outputs": [
    {
     "ename": "NameError",
     "evalue": "name 'sns' is not defined",
     "output_type": "error",
     "traceback": [
      "\u001b[0;31m---------------------------------------------------------------------------\u001b[0m",
      "\u001b[0;31mNameError\u001b[0m                                 Traceback (most recent call last)",
      "\u001b[0;32m/var/folders/p9/tcnwqc213xbgrkmxmj8jjzn80000gn/T/ipykernel_39590/2121001434.py\u001b[0m in \u001b[0;36m<module>\u001b[0;34m\u001b[0m\n\u001b[1;32m      1\u001b[0m \u001b[0mplt\u001b[0m\u001b[0;34m.\u001b[0m\u001b[0mfigure\u001b[0m\u001b[0;34m(\u001b[0m\u001b[0mfigsize\u001b[0m\u001b[0;34m=\u001b[0m\u001b[0;34m(\u001b[0m\u001b[0;36m20\u001b[0m\u001b[0;34m,\u001b[0m\u001b[0;36m10\u001b[0m\u001b[0;34m)\u001b[0m\u001b[0;34m,\u001b[0m \u001b[0mfacecolor\u001b[0m\u001b[0;34m=\u001b[0m\u001b[0;34m'w'\u001b[0m\u001b[0;34m)\u001b[0m\u001b[0;34m\u001b[0m\u001b[0;34m\u001b[0m\u001b[0m\n\u001b[0;32m----> 2\u001b[0;31m \u001b[0msns\u001b[0m\u001b[0;34m.\u001b[0m\u001b[0mboxplot\u001b[0m\u001b[0;34m(\u001b[0m\u001b[0mdata\u001b[0m\u001b[0;34m=\u001b[0m\u001b[0mdata\u001b[0m\u001b[0;34m)\u001b[0m\u001b[0;34m\u001b[0m\u001b[0;34m\u001b[0m\u001b[0m\n\u001b[0m\u001b[1;32m      3\u001b[0m \u001b[0mplt\u001b[0m\u001b[0;34m.\u001b[0m\u001b[0mshow\u001b[0m\u001b[0;34m(\u001b[0m\u001b[0;34m)\u001b[0m\u001b[0;34m\u001b[0m\u001b[0;34m\u001b[0m\u001b[0m\n",
      "\u001b[0;31mNameError\u001b[0m: name 'sns' is not defined"
     ]
    },
    {
     "data": {
      "text/plain": [
       "<Figure size 1440x720 with 0 Axes>"
      ]
     },
     "metadata": {},
     "output_type": "display_data"
    }
   ],
   "source": [
    "plt.figure(figsize=(20,10), facecolor='w')\n",
    "sns.boxplot(data=data)\n",
    "plt.show()"
   ]
  },
  {
   "cell_type": "markdown",
   "metadata": {},
   "source": [
    "- totChol와 sysBP에서 특히 크게 튀는 값을 확인"
   ]
  },
  {
   "cell_type": "code",
   "execution_count": 18,
   "metadata": {},
   "outputs": [
    {
     "name": "stdout",
     "output_type": "stream",
     "text": [
      "totChol max : 600.0\n",
      "sysBP max : 295.0\n"
     ]
    }
   ],
   "source": [
    "print(\"totChol max :\",data.totChol.max())\n",
    "print(\"sysBP max :\", data.sysBP.max())"
   ]
  },
  {
   "cell_type": "code",
   "execution_count": 19,
   "metadata": {},
   "outputs": [],
   "source": [
    "# 두 값을 삭제\n",
    "data = data[data.totChol < data.totChol.max()]\n",
    "data = data[data.sysBP < data.sysBP.max()]"
   ]
  },
  {
   "cell_type": "code",
   "execution_count": 20,
   "metadata": {},
   "outputs": [
    {
     "data": {
      "text/plain": [
       "(3654, 16)"
      ]
     },
     "execution_count": 20,
     "metadata": {},
     "output_type": "execute_result"
    }
   ],
   "source": [
    "data.shape"
   ]
  },
  {
   "cell_type": "markdown",
   "metadata": {},
   "source": [
    "## feature engineering"
   ]
  },
  {
   "cell_type": "code",
   "execution_count": 21,
   "metadata": {},
   "outputs": [],
   "source": [
    "correlation = data.corr()"
   ]
  },
  {
   "cell_type": "code",
   "execution_count": 18,
   "metadata": {},
   "outputs": [
    {
     "data": {
      "text/plain": [
       "<matplotlib.axes._subplots.AxesSubplot at 0x7fc03c9f58d0>"
      ]
     },
     "execution_count": 18,
     "metadata": {},
     "output_type": "execute_result"
    },
    {
     "data": {
      "image/png": "[encoded data removed]",
      "text/plain": [
       "<Figure size 1476x756 with 2 Axes>"
      ]
     },
     "metadata": {},
     "output_type": "display_data"
    }
   ],
   "source": [
    "plt.figure(figsize=(20.5,10.5), facecolor='w')\n",
    "sns.heatmap(correlation,xticklabels=correlation.columns,yticklabels=correlation.columns,annot=True)"
   ]
  },
  {
   "cell_type": "code",
   "execution_count": 22,
   "metadata": {},
   "outputs": [
    {
     "data": {
      "text/plain": [
       "TenYearCHD         1.000000\n",
       "age                0.232985\n",
       "sysBP              0.219350\n",
       "prevalentHyp       0.180020\n",
       "diaBP              0.147560\n",
       "glucose            0.120978\n",
       "male               0.093060\n",
       "diabetes           0.090217\n",
       "BPMeds             0.089481\n",
       "totChol            0.086513\n",
       "BMI                0.079704\n",
       "cigsPerDay         0.053226\n",
       "prevalentStroke    0.048523\n",
       "currentSmoker      0.020476\n",
       "heartRate          0.019559\n",
       "education         -0.062565\n",
       "Name: TenYearCHD, dtype: float64"
      ]
     },
     "execution_count": 22,
     "metadata": {},
     "output_type": "execute_result"
    }
   ],
   "source": [
    "correlation.sort_values(by='TenYearCHD', ascending=False).TenYearCHD"
   ]
  },
  {
   "cell_type": "markdown",
   "metadata": {},
   "source": [
    "- 학력의 상관계수는 오히려 음수가 나왔다. 이를 제외하고 학습데이터에 이용해 보려 한다."
   ]
  },
  {
   "cell_type": "code",
   "execution_count": 23,
   "metadata": {},
   "outputs": [],
   "source": [
    "features = [\"age\", \"sysBP\", \"prevalentHyp\", \"diaBP\", \"glucose\", \"male\", \"diabetes\", \"BPMeds\", \"totChol\", \"BMI\", \"cigsPerDay\",\"prevalentStroke\", \"currentSmoker\", \"heartRate\"]"
   ]
  },
  {
   "cell_type": "code",
   "execution_count": 24,
   "metadata": {},
   "outputs": [
    {
     "data": {
      "text/plain": [
       "([<matplotlib.patches.Wedge at 0x136ee8d30>,\n",
       "  <matplotlib.patches.Wedge at 0x136f023d0>],\n",
       " [Text(-0.9771273228937835, 0.505195204702527, '0'),\n",
       "  Text(0.9771272755939905, -0.5051952961877872, '1')],\n",
       " [Text(-0.5329785397602455, 0.27556102074683286, '84.8%'),\n",
       "  Text(0.5329785139603583, -0.27556107064788393, '15.2%')])"
      ]
     },
     "execution_count": 24,
     "metadata": {},
     "output_type": "execute_result"
    },
    {
     "data": {
      "image/png": "[encoded data removed]",
      "text/plain": [
       "<Figure size 432x288 with 1 Axes>"
      ]
     },
     "metadata": {},
     "output_type": "display_data"
    }
   ],
   "source": [
    "plt.pie(data.TenYearCHD.value_counts(),autopct=\"%1.1f%%\",labels=[0,1] )"
   ]
  },
  {
   "cell_type": "markdown",
   "metadata": {},
   "source": [
    "- 심장병이 없는 케이스가 훨씬 많은 데이터를 가지고 있다.\n",
    "- label 데이터의 불균형으로 인한 학습오류가 있을 수 있다."
   ]
  },
  {
   "cell_type": "code",
   "execution_count": 25,
   "metadata": {},
   "outputs": [],
   "source": [
    "from sklearn.utils import resample\n",
    "\n",
    "label_0 = data[data.TenYearCHD==0]\n",
    "label_1 = data[data.TenYearCHD==1]"
   ]
  },
  {
   "cell_type": "code",
   "execution_count": 26,
   "metadata": {},
   "outputs": [],
   "source": [
    "label_1=resample(label_1,replace=True,n_samples=len(label_0),random_state=40)"
   ]
  },
  {
   "cell_type": "code",
   "execution_count": 27,
   "metadata": {},
   "outputs": [],
   "source": [
    "data_samp = pd.concat([label_0, label_1])"
   ]
  },
  {
   "cell_type": "code",
   "execution_count": 28,
   "metadata": {},
   "outputs": [
    {
     "data": {
      "text/plain": [
       "(6198, 16)"
      ]
     },
     "execution_count": 28,
     "metadata": {},
     "output_type": "execute_result"
    }
   ],
   "source": [
    "data_samp.shape"
   ]
  },
  {
   "cell_type": "code",
   "execution_count": 29,
   "metadata": {},
   "outputs": [
    {
     "data": {
      "text/plain": [
       "([<matplotlib.patches.Wedge at 0x142e3b7f0>,\n",
       "  <matplotlib.patches.Wedge at 0x142e3bf70>],\n",
       " [Text(6.735557395310444e-17, 1.1, '0'),\n",
       "  Text(-2.0206672185931328e-16, -1.1, '1')],\n",
       " [Text(3.6739403974420595e-17, 0.6, '50.0%'),\n",
       "  Text(-1.1021821192326178e-16, -0.6, '50.0%')])"
      ]
     },
     "execution_count": 29,
     "metadata": {},
     "output_type": "execute_result"
    },
    {
     "data": {
      "image/png": "[encoded data removed]",
      "text/plain": [
       "<Figure size 432x288 with 1 Axes>"
      ]
     },
     "metadata": {},
     "output_type": "display_data"
    }
   ],
   "source": [
    "plt.pie(data_samp.TenYearCHD.value_counts(),autopct=\"%1.1f%%\",labels=[0,1] )"
   ]
  },
  {
   "cell_type": "markdown",
   "metadata": {},
   "source": [
    "- sampling을 활용해 데이터 불균형 문제를 해결해 보려 한다."
   ]
  },
  {
   "cell_type": "code",
   "execution_count": 30,
   "metadata": {},
   "outputs": [
    {
     "data": {
      "text/plain": [
       "0    3099\n",
       "1    3099\n",
       "Name: TenYearCHD, dtype: int64"
      ]
     },
     "execution_count": 30,
     "metadata": {},
     "output_type": "execute_result"
    }
   ],
   "source": [
    "data_samp.TenYearCHD.value_counts()"
   ]
  },
  {
   "cell_type": "code",
   "execution_count": 31,
   "metadata": {},
   "outputs": [],
   "source": [
    "target = data_samp"
   ]
  },
  {
   "cell_type": "markdown",
   "metadata": {},
   "source": [
    "## 학습데이터 준비"
   ]
  },
  {
   "cell_type": "code",
   "execution_count": 32,
   "metadata": {},
   "outputs": [],
   "source": [
    "target.drop([\"education\"],axis=1, inplace=True)"
   ]
  },
  {
   "cell_type": "code",
   "execution_count": 33,
   "metadata": {},
   "outputs": [
    {
     "data": {
      "text/plain": [
       "Index(['male', 'age', 'currentSmoker', 'cigsPerDay', 'BPMeds',\n",
       "       'prevalentStroke', 'prevalentHyp', 'diabetes', 'totChol', 'sysBP',\n",
       "       'diaBP', 'BMI', 'heartRate', 'glucose', 'TenYearCHD'],\n",
       "      dtype='object')"
      ]
     },
     "execution_count": 33,
     "metadata": {},
     "output_type": "execute_result"
    }
   ],
   "source": [
    "target.columns"
   ]
  },
  {
   "cell_type": "code",
   "execution_count": 34,
   "metadata": {},
   "outputs": [],
   "source": [
    "X = target.iloc[:,:14]\n",
    "Y = target.iloc[:,-1:]"
   ]
  },
  {
   "cell_type": "code",
   "execution_count": 32,
   "metadata": {},
   "outputs": [],
   "source": [
    "from sklearn.model_selection import train_test_split\n",
    "\n",
    "train_x, test_x, train_y, test_y = train_test_split(X, Y, test_size=0.3, random_state=1)"
   ]
  },
  {
   "cell_type": "code",
   "execution_count": 33,
   "metadata": {},
   "outputs": [],
   "source": [
    "from sklearn.preprocessing import MaxAbsScaler\n",
    "\n",
    "scaler = MaxAbsScaler()\n",
    "train_x = scaler.fit_transform(train_x)\n",
    "test_x = scaler.transform(test_x)"
   ]
  },
  {
   "cell_type": "markdown",
   "metadata": {},
   "source": [
    "### Logistic Regression"
   ]
  },
  {
   "cell_type": "code",
   "execution_count": 34,
   "metadata": {},
   "outputs": [],
   "source": [
    "from sklearn.linear_model import LogisticRegression\n",
    "\n",
    "logi = LogisticRegression()"
   ]
  },
  {
   "cell_type": "code",
   "execution_count": 35,
   "metadata": {},
   "outputs": [
    {
     "name": "stderr",
     "output_type": "stream",
     "text": [
      "/Library/Frameworks/Python.framework/Versions/3.7/lib/python3.7/site-packages/sklearn/utils/validation.py:72: DataConversionWarning: A column-vector y was passed when a 1d array was expected. Please change the shape of y to (n_samples, ), for example using ravel().\n",
      "  return f(**kwargs)\n"
     ]
    }
   ],
   "source": [
    "model = logi.fit(train_x, train_y)"
   ]
  },
  {
   "cell_type": "code",
   "execution_count": 36,
   "metadata": {},
   "outputs": [],
   "source": [
    "y_hat = model.predict(test_x)"
   ]
  },
  {
   "cell_type": "code",
   "execution_count": 37,
   "metadata": {},
   "outputs": [
    {
     "data": {
      "text/plain": [
       "array([1, 1, 0, ..., 1, 0, 0])"
      ]
     },
     "execution_count": 37,
     "metadata": {},
     "output_type": "execute_result"
    }
   ],
   "source": [
    "y_hat"
   ]
  },
  {
   "cell_type": "code",
   "execution_count": 38,
   "metadata": {},
   "outputs": [],
   "source": [
    "from sklearn.metrics import confusion_matrix, accuracy_score, roc_curve, classification_report"
   ]
  },
  {
   "cell_type": "code",
   "execution_count": 39,
   "metadata": {},
   "outputs": [
    {
     "data": {
      "text/plain": [
       "0.6978494623655914"
      ]
     },
     "execution_count": 39,
     "metadata": {},
     "output_type": "execute_result"
    }
   ],
   "source": [
    "accuracy_score(test_y, y_hat)"
   ]
  },
  {
   "cell_type": "markdown",
   "metadata": {},
   "source": [
    "### Random Forest"
   ]
  },
  {
   "cell_type": "code",
   "execution_count": 40,
   "metadata": {},
   "outputs": [],
   "source": [
    "from sklearn.ensemble import RandomForestClassifier\n",
    "\n",
    "rf = RandomForestClassifier()"
   ]
  },
  {
   "cell_type": "code",
   "execution_count": 41,
   "metadata": {},
   "outputs": [
    {
     "name": "stderr",
     "output_type": "stream",
     "text": [
      "/Library/Frameworks/Python.framework/Versions/3.7/lib/python3.7/site-packages/ipykernel_launcher.py:1: DataConversionWarning: A column-vector y was passed when a 1d array was expected. Please change the shape of y to (n_samples,), for example using ravel().\n",
      "  \"\"\"Entry point for launching an IPython kernel.\n"
     ]
    }
   ],
   "source": [
    "model_rf = rf.fit(train_x, train_y)"
   ]
  },
  {
   "cell_type": "code",
   "execution_count": 42,
   "metadata": {},
   "outputs": [
    {
     "data": {
      "text/plain": [
       "0.9655913978494624"
      ]
     },
     "execution_count": 42,
     "metadata": {},
     "output_type": "execute_result"
    }
   ],
   "source": [
    "y_hat_rf = model_rf.predict(test_x)\n",
    "accuracy_score(test_y, y_hat_rf)"
   ]
  },
  {
   "cell_type": "markdown",
   "metadata": {},
   "source": [
    "### MLP Classifier"
   ]
  },
  {
   "cell_type": "code",
   "execution_count": 52,
   "metadata": {},
   "outputs": [],
   "source": [
    "from sklearn.neural_network import MLPClassifier\n",
    "\n",
    "mlp = mlp=MLPClassifier(solver='adam', learning_rate_init = 0.0005, learning_rate = 'adaptive',\n",
    "                        activation=\"logistic\", max_iter=3000, random_state=10)"
   ]
  },
  {
   "cell_type": "code",
   "execution_count": 56,
   "metadata": {},
   "outputs": [
    {
     "name": "stderr",
     "output_type": "stream",
     "text": [
      "/Library/Frameworks/Python.framework/Versions/3.7/lib/python3.7/site-packages/sklearn/utils/validation.py:72: DataConversionWarning: A column-vector y was passed when a 1d array was expected. Please change the shape of y to (n_samples, ), for example using ravel().\n",
      "  return f(**kwargs)\n"
     ]
    },
    {
     "data": {
      "text/plain": [
       "MLPClassifier(activation='logistic', learning_rate='adaptive',\n",
       "              learning_rate_init=0.0005, max_iter=3000, random_state=10)"
      ]
     },
     "execution_count": 56,
     "metadata": {},
     "output_type": "execute_result"
    }
   ],
   "source": [
    "mlp.fit(train_x, train_y)"
   ]
  },
  {
   "cell_type": "code",
   "execution_count": 57,
   "metadata": {},
   "outputs": [],
   "source": [
    "y_hat_mlp = mlp.predict(test_x)"
   ]
  },
  {
   "cell_type": "code",
   "execution_count": 58,
   "metadata": {},
   "outputs": [
    {
     "data": {
      "text/plain": [
       "0.6967741935483871"
      ]
     },
     "execution_count": 58,
     "metadata": {},
     "output_type": "execute_result"
    }
   ],
   "source": [
    "accuracy_score(test_y, y_hat_mlp)"
   ]
  },
  {
   "cell_type": "markdown",
   "metadata": {},
   "source": [
    "### Catboost"
   ]
  },
  {
   "cell_type": "code",
   "execution_count": 61,
   "metadata": {},
   "outputs": [],
   "source": [
    "from catboost import CatBoostClassifier"
   ]
  },
  {
   "cell_type": "code",
   "execution_count": 90,
   "metadata": {},
   "outputs": [],
   "source": [
    "model = CatBoostClassifier(iterations=500, loss_function=\"Logloss\", depth=10, learning_rate=0.1)"
   ]
  },
  {
   "cell_type": "code",
   "execution_count": 91,
   "metadata": {},
   "outputs": [
    {
     "name": "stdout",
     "output_type": "stream",
     "text": [
      "0:\tlearn: 0.6531827\ttotal: 14.4ms\tremaining: 7.19s\n",
      "1:\tlearn: 0.6174498\ttotal: 28.5ms\tremaining: 7.1s\n",
      "2:\tlearn: 0.5844230\ttotal: 43.5ms\tremaining: 7.2s\n",
      "3:\tlearn: 0.5639836\ttotal: 57.2ms\tremaining: 7.1s\n",
      "4:\tlearn: 0.5485988\ttotal: 72.7ms\tremaining: 7.2s\n",
      "5:\tlearn: 0.5222057\ttotal: 86.7ms\tremaining: 7.14s\n",
      "6:\tlearn: 0.5012246\ttotal: 100ms\tremaining: 7.05s\n",
      "7:\tlearn: 0.4871937\ttotal: 113ms\tremaining: 6.96s\n",
      "8:\tlearn: 0.4740420\ttotal: 127ms\tremaining: 6.93s\n",
      "9:\tlearn: 0.4640068\ttotal: 140ms\tremaining: 6.87s\n",
      "10:\tlearn: 0.4504553\ttotal: 153ms\tremaining: 6.81s\n",
      "11:\tlearn: 0.4427922\ttotal: 166ms\tremaining: 6.76s\n",
      "12:\tlearn: 0.4361516\ttotal: 180ms\tremaining: 6.73s\n",
      "13:\tlearn: 0.4292870\ttotal: 193ms\tremaining: 6.7s\n",
      "14:\tlearn: 0.4202333\ttotal: 208ms\tremaining: 6.74s\n",
      "15:\tlearn: 0.4099010\ttotal: 226ms\tremaining: 6.82s\n",
      "16:\tlearn: 0.3985491\ttotal: 240ms\tremaining: 6.82s\n",
      "17:\tlearn: 0.3920502\ttotal: 256ms\tremaining: 6.84s\n",
      "18:\tlearn: 0.3856962\ttotal: 273ms\tremaining: 6.9s\n",
      "19:\tlearn: 0.3774082\ttotal: 290ms\tremaining: 6.96s\n",
      "20:\tlearn: 0.3698222\ttotal: 304ms\tremaining: 6.92s\n",
      "21:\tlearn: 0.3654043\ttotal: 318ms\tremaining: 6.91s\n",
      "22:\tlearn: 0.3608615\ttotal: 333ms\tremaining: 6.91s\n",
      "23:\tlearn: 0.3545918\ttotal: 347ms\tremaining: 6.89s\n",
      "24:\tlearn: 0.3497629\ttotal: 361ms\tremaining: 6.87s\n",
      "25:\tlearn: 0.3452033\ttotal: 375ms\tremaining: 6.84s\n",
      "26:\tlearn: 0.3369458\ttotal: 391ms\tremaining: 6.85s\n",
      "27:\tlearn: 0.3328817\ttotal: 406ms\tremaining: 6.85s\n",
      "28:\tlearn: 0.3280983\ttotal: 421ms\tremaining: 6.83s\n",
      "29:\tlearn: 0.3237453\ttotal: 435ms\tremaining: 6.82s\n",
      "30:\tlearn: 0.3180799\ttotal: 454ms\tremaining: 6.87s\n",
      "31:\tlearn: 0.3115755\ttotal: 469ms\tremaining: 6.85s\n",
      "32:\tlearn: 0.3088164\ttotal: 484ms\tremaining: 6.85s\n",
      "33:\tlearn: 0.3041850\ttotal: 500ms\tremaining: 6.85s\n",
      "34:\tlearn: 0.3024019\ttotal: 515ms\tremaining: 6.85s\n",
      "35:\tlearn: 0.3007815\ttotal: 522ms\tremaining: 6.73s\n",
      "36:\tlearn: 0.2945949\ttotal: 535ms\tremaining: 6.69s\n",
      "37:\tlearn: 0.2911735\ttotal: 549ms\tremaining: 6.67s\n",
      "38:\tlearn: 0.2873993\ttotal: 563ms\tremaining: 6.65s\n",
      "39:\tlearn: 0.2818511\ttotal: 579ms\tremaining: 6.65s\n",
      "40:\tlearn: 0.2774032\ttotal: 598ms\tremaining: 6.69s\n",
      "41:\tlearn: 0.2725552\ttotal: 615ms\tremaining: 6.7s\n",
      "42:\tlearn: 0.2669530\ttotal: 631ms\tremaining: 6.7s\n",
      "43:\tlearn: 0.2613612\ttotal: 650ms\tremaining: 6.74s\n",
      "44:\tlearn: 0.2612798\ttotal: 653ms\tremaining: 6.6s\n",
      "45:\tlearn: 0.2574587\ttotal: 672ms\tremaining: 6.63s\n",
      "46:\tlearn: 0.2541820\ttotal: 689ms\tremaining: 6.64s\n",
      "47:\tlearn: 0.2501587\ttotal: 706ms\tremaining: 6.65s\n",
      "48:\tlearn: 0.2473541\ttotal: 722ms\tremaining: 6.65s\n",
      "49:\tlearn: 0.2454307\ttotal: 736ms\tremaining: 6.62s\n",
      "50:\tlearn: 0.2426086\ttotal: 749ms\tremaining: 6.59s\n",
      "51:\tlearn: 0.2397041\ttotal: 765ms\tremaining: 6.59s\n",
      "52:\tlearn: 0.2386661\ttotal: 779ms\tremaining: 6.57s\n",
      "53:\tlearn: 0.2320545\ttotal: 792ms\tremaining: 6.54s\n",
      "54:\tlearn: 0.2302368\ttotal: 806ms\tremaining: 6.52s\n",
      "55:\tlearn: 0.2272731\ttotal: 821ms\tremaining: 6.5s\n",
      "56:\tlearn: 0.2256704\ttotal: 834ms\tremaining: 6.48s\n",
      "57:\tlearn: 0.2217270\ttotal: 849ms\tremaining: 6.47s\n",
      "58:\tlearn: 0.2193623\ttotal: 864ms\tremaining: 6.46s\n",
      "59:\tlearn: 0.2170890\ttotal: 880ms\tremaining: 6.46s\n",
      "60:\tlearn: 0.2136984\ttotal: 896ms\tremaining: 6.45s\n",
      "61:\tlearn: 0.2103110\ttotal: 913ms\tremaining: 6.45s\n",
      "62:\tlearn: 0.2078127\ttotal: 927ms\tremaining: 6.43s\n",
      "63:\tlearn: 0.2057958\ttotal: 941ms\tremaining: 6.41s\n",
      "64:\tlearn: 0.2042799\ttotal: 958ms\tremaining: 6.41s\n",
      "65:\tlearn: 0.2022214\ttotal: 972ms\tremaining: 6.39s\n",
      "66:\tlearn: 0.1999706\ttotal: 988ms\tremaining: 6.38s\n",
      "67:\tlearn: 0.1975070\ttotal: 1s\tremaining: 6.37s\n",
      "68:\tlearn: 0.1953931\ttotal: 1.02s\tremaining: 6.36s\n",
      "69:\tlearn: 0.1941614\ttotal: 1.03s\tremaining: 6.34s\n",
      "70:\tlearn: 0.1929333\ttotal: 1.05s\tremaining: 6.33s\n",
      "71:\tlearn: 0.1895703\ttotal: 1.06s\tremaining: 6.32s\n",
      "72:\tlearn: 0.1871758\ttotal: 1.08s\tremaining: 6.32s\n",
      "73:\tlearn: 0.1848017\ttotal: 1.1s\tremaining: 6.33s\n",
      "74:\tlearn: 0.1826012\ttotal: 1.12s\tremaining: 6.33s\n",
      "75:\tlearn: 0.1806051\ttotal: 1.13s\tremaining: 6.31s\n",
      "76:\tlearn: 0.1788836\ttotal: 1.15s\tremaining: 6.3s\n",
      "77:\tlearn: 0.1769507\ttotal: 1.16s\tremaining: 6.28s\n",
      "78:\tlearn: 0.1760111\ttotal: 1.17s\tremaining: 6.26s\n",
      "79:\tlearn: 0.1741515\ttotal: 1.19s\tremaining: 6.24s\n",
      "80:\tlearn: 0.1733811\ttotal: 1.2s\tremaining: 6.22s\n",
      "81:\tlearn: 0.1705104\ttotal: 1.22s\tremaining: 6.2s\n",
      "82:\tlearn: 0.1679936\ttotal: 1.23s\tremaining: 6.2s\n",
      "83:\tlearn: 0.1664665\ttotal: 1.25s\tremaining: 6.22s\n",
      "84:\tlearn: 0.1647408\ttotal: 1.28s\tremaining: 6.24s\n",
      "85:\tlearn: 0.1629243\ttotal: 1.3s\tremaining: 6.25s\n",
      "86:\tlearn: 0.1615631\ttotal: 1.32s\tremaining: 6.27s\n",
      "87:\tlearn: 0.1591083\ttotal: 1.34s\tremaining: 6.27s\n",
      "88:\tlearn: 0.1557100\ttotal: 1.36s\tremaining: 6.26s\n",
      "89:\tlearn: 0.1531304\ttotal: 1.37s\tremaining: 6.25s\n",
      "90:\tlearn: 0.1510905\ttotal: 1.39s\tremaining: 6.25s\n",
      "91:\tlearn: 0.1485989\ttotal: 1.41s\tremaining: 6.25s\n",
      "92:\tlearn: 0.1470674\ttotal: 1.43s\tremaining: 6.26s\n",
      "93:\tlearn: 0.1461658\ttotal: 1.45s\tremaining: 6.26s\n",
      "94:\tlearn: 0.1445281\ttotal: 1.47s\tremaining: 6.27s\n",
      "95:\tlearn: 0.1426122\ttotal: 1.49s\tremaining: 6.28s\n",
      "96:\tlearn: 0.1410819\ttotal: 1.51s\tremaining: 6.29s\n",
      "97:\tlearn: 0.1398175\ttotal: 1.54s\tremaining: 6.31s\n",
      "98:\tlearn: 0.1387020\ttotal: 1.56s\tremaining: 6.31s\n",
      "99:\tlearn: 0.1364286\ttotal: 1.57s\tremaining: 6.29s\n",
      "100:\tlearn: 0.1331204\ttotal: 1.59s\tremaining: 6.27s\n",
      "101:\tlearn: 0.1315489\ttotal: 1.6s\tremaining: 6.25s\n",
      "102:\tlearn: 0.1294026\ttotal: 1.61s\tremaining: 6.22s\n",
      "103:\tlearn: 0.1285239\ttotal: 1.63s\tremaining: 6.2s\n",
      "104:\tlearn: 0.1267411\ttotal: 1.64s\tremaining: 6.18s\n",
      "105:\tlearn: 0.1247491\ttotal: 1.66s\tremaining: 6.17s\n",
      "106:\tlearn: 0.1239561\ttotal: 1.67s\tremaining: 6.15s\n",
      "107:\tlearn: 0.1225956\ttotal: 1.69s\tremaining: 6.13s\n",
      "108:\tlearn: 0.1210531\ttotal: 1.71s\tremaining: 6.12s\n",
      "109:\tlearn: 0.1192490\ttotal: 1.72s\tremaining: 6.11s\n",
      "110:\tlearn: 0.1174800\ttotal: 1.74s\tremaining: 6.1s\n",
      "111:\tlearn: 0.1159912\ttotal: 1.76s\tremaining: 6.09s\n",
      "112:\tlearn: 0.1151371\ttotal: 1.77s\tremaining: 6.08s\n",
      "113:\tlearn: 0.1132171\ttotal: 1.79s\tremaining: 6.06s\n",
      "114:\tlearn: 0.1123950\ttotal: 1.8s\tremaining: 6.04s\n",
      "115:\tlearn: 0.1101090\ttotal: 1.82s\tremaining: 6.01s\n",
      "116:\tlearn: 0.1092584\ttotal: 1.83s\tremaining: 6s\n",
      "117:\tlearn: 0.1079339\ttotal: 1.84s\tremaining: 5.97s\n",
      "118:\tlearn: 0.1063545\ttotal: 1.86s\tremaining: 5.95s\n",
      "119:\tlearn: 0.1055482\ttotal: 1.87s\tremaining: 5.93s\n",
      "120:\tlearn: 0.1043720\ttotal: 1.89s\tremaining: 5.92s\n",
      "121:\tlearn: 0.1030872\ttotal: 1.91s\tremaining: 5.91s\n",
      "122:\tlearn: 0.1022606\ttotal: 1.93s\tremaining: 5.9s\n",
      "123:\tlearn: 0.1013250\ttotal: 1.94s\tremaining: 5.88s\n",
      "124:\tlearn: 0.1001720\ttotal: 1.95s\tremaining: 5.86s\n",
      "125:\tlearn: 0.0986789\ttotal: 1.97s\tremaining: 5.84s\n",
      "126:\tlearn: 0.0980818\ttotal: 1.98s\tremaining: 5.83s\n",
      "127:\tlearn: 0.0963932\ttotal: 2s\tremaining: 5.81s\n",
      "128:\tlearn: 0.0953975\ttotal: 2.01s\tremaining: 5.79s\n",
      "129:\tlearn: 0.0947877\ttotal: 2.03s\tremaining: 5.77s\n",
      "130:\tlearn: 0.0942851\ttotal: 2.04s\tremaining: 5.75s\n",
      "131:\tlearn: 0.0937903\ttotal: 2.06s\tremaining: 5.73s\n",
      "132:\tlearn: 0.0929140\ttotal: 2.07s\tremaining: 5.72s\n",
      "133:\tlearn: 0.0916638\ttotal: 2.09s\tremaining: 5.7s\n",
      "134:\tlearn: 0.0908653\ttotal: 2.1s\tremaining: 5.69s\n",
      "135:\tlearn: 0.0897322\ttotal: 2.12s\tremaining: 5.67s\n",
      "136:\tlearn: 0.0885641\ttotal: 2.13s\tremaining: 5.66s\n",
      "137:\tlearn: 0.0867864\ttotal: 2.15s\tremaining: 5.64s\n",
      "138:\tlearn: 0.0861921\ttotal: 2.16s\tremaining: 5.62s\n",
      "139:\tlearn: 0.0851391\ttotal: 2.18s\tremaining: 5.6s\n",
      "140:\tlearn: 0.0844043\ttotal: 2.19s\tremaining: 5.59s\n",
      "141:\tlearn: 0.0834509\ttotal: 2.21s\tremaining: 5.57s\n",
      "142:\tlearn: 0.0827930\ttotal: 2.22s\tremaining: 5.55s\n",
      "143:\tlearn: 0.0813528\ttotal: 2.24s\tremaining: 5.53s\n",
      "144:\tlearn: 0.0805188\ttotal: 2.25s\tremaining: 5.51s\n",
      "145:\tlearn: 0.0795466\ttotal: 2.27s\tremaining: 5.5s\n",
      "146:\tlearn: 0.0789977\ttotal: 2.28s\tremaining: 5.48s\n",
      "147:\tlearn: 0.0785379\ttotal: 2.3s\tremaining: 5.47s\n",
      "148:\tlearn: 0.0780626\ttotal: 2.31s\tremaining: 5.45s\n",
      "149:\tlearn: 0.0774314\ttotal: 2.33s\tremaining: 5.43s\n",
      "150:\tlearn: 0.0764979\ttotal: 2.34s\tremaining: 5.42s\n",
      "151:\tlearn: 0.0757681\ttotal: 2.36s\tremaining: 5.4s\n",
      "152:\tlearn: 0.0750279\ttotal: 2.37s\tremaining: 5.38s\n",
      "153:\tlearn: 0.0745837\ttotal: 2.39s\tremaining: 5.36s\n",
      "154:\tlearn: 0.0738402\ttotal: 2.4s\tremaining: 5.34s\n",
      "155:\tlearn: 0.0734874\ttotal: 2.41s\tremaining: 5.32s\n",
      "156:\tlearn: 0.0727884\ttotal: 2.43s\tremaining: 5.3s\n",
      "157:\tlearn: 0.0723873\ttotal: 2.44s\tremaining: 5.29s\n",
      "158:\tlearn: 0.0718769\ttotal: 2.46s\tremaining: 5.26s\n",
      "159:\tlearn: 0.0716351\ttotal: 2.47s\tremaining: 5.25s\n",
      "160:\tlearn: 0.0707121\ttotal: 2.49s\tremaining: 5.24s\n",
      "161:\tlearn: 0.0698734\ttotal: 2.5s\tremaining: 5.22s\n",
      "162:\tlearn: 0.0688904\ttotal: 2.52s\tremaining: 5.21s\n",
      "163:\tlearn: 0.0685918\ttotal: 2.54s\tremaining: 5.2s\n",
      "164:\tlearn: 0.0680915\ttotal: 2.55s\tremaining: 5.18s\n",
      "165:\tlearn: 0.0676912\ttotal: 2.57s\tremaining: 5.17s\n",
      "166:\tlearn: 0.0671011\ttotal: 2.58s\tremaining: 5.15s\n",
      "167:\tlearn: 0.0665233\ttotal: 2.6s\tremaining: 5.14s\n",
      "168:\tlearn: 0.0660147\ttotal: 2.61s\tremaining: 5.12s\n",
      "169:\tlearn: 0.0649150\ttotal: 2.63s\tremaining: 5.1s\n",
      "170:\tlearn: 0.0641166\ttotal: 2.64s\tremaining: 5.08s\n",
      "171:\tlearn: 0.0634262\ttotal: 2.66s\tremaining: 5.07s\n",
      "172:\tlearn: 0.0625933\ttotal: 2.67s\tremaining: 5.05s\n",
      "173:\tlearn: 0.0622381\ttotal: 2.68s\tremaining: 5.03s\n"
     ]
    },
    {
     "name": "stdout",
     "output_type": "stream",
     "text": [
      "174:\tlearn: 0.0615166\ttotal: 2.7s\tremaining: 5.01s\n",
      "175:\tlearn: 0.0608008\ttotal: 2.71s\tremaining: 5s\n",
      "176:\tlearn: 0.0603048\ttotal: 2.73s\tremaining: 4.98s\n",
      "177:\tlearn: 0.0597722\ttotal: 2.74s\tremaining: 4.96s\n",
      "178:\tlearn: 0.0594797\ttotal: 2.76s\tremaining: 4.94s\n",
      "179:\tlearn: 0.0587295\ttotal: 2.77s\tremaining: 4.92s\n",
      "180:\tlearn: 0.0583197\ttotal: 2.78s\tremaining: 4.91s\n",
      "181:\tlearn: 0.0577223\ttotal: 2.8s\tremaining: 4.89s\n",
      "182:\tlearn: 0.0574535\ttotal: 2.81s\tremaining: 4.87s\n",
      "183:\tlearn: 0.0570645\ttotal: 2.82s\tremaining: 4.85s\n",
      "184:\tlearn: 0.0565492\ttotal: 2.84s\tremaining: 4.83s\n",
      "185:\tlearn: 0.0559555\ttotal: 2.85s\tremaining: 4.81s\n",
      "186:\tlearn: 0.0555611\ttotal: 2.86s\tremaining: 4.79s\n",
      "187:\tlearn: 0.0551130\ttotal: 2.88s\tremaining: 4.78s\n",
      "188:\tlearn: 0.0543966\ttotal: 2.89s\tremaining: 4.76s\n",
      "189:\tlearn: 0.0538627\ttotal: 2.91s\tremaining: 4.74s\n",
      "190:\tlearn: 0.0533923\ttotal: 2.92s\tremaining: 4.73s\n",
      "191:\tlearn: 0.0530355\ttotal: 2.94s\tremaining: 4.71s\n",
      "192:\tlearn: 0.0528121\ttotal: 2.95s\tremaining: 4.69s\n",
      "193:\tlearn: 0.0524580\ttotal: 2.96s\tremaining: 4.67s\n",
      "194:\tlearn: 0.0521903\ttotal: 2.98s\tremaining: 4.66s\n",
      "195:\tlearn: 0.0518866\ttotal: 2.99s\tremaining: 4.64s\n",
      "196:\tlearn: 0.0515519\ttotal: 3s\tremaining: 4.62s\n",
      "197:\tlearn: 0.0510532\ttotal: 3.02s\tremaining: 4.61s\n",
      "198:\tlearn: 0.0505269\ttotal: 3.03s\tremaining: 4.59s\n",
      "199:\tlearn: 0.0502582\ttotal: 3.05s\tremaining: 4.57s\n",
      "200:\tlearn: 0.0500935\ttotal: 3.06s\tremaining: 4.55s\n",
      "201:\tlearn: 0.0497612\ttotal: 3.07s\tremaining: 4.53s\n",
      "202:\tlearn: 0.0492509\ttotal: 3.09s\tremaining: 4.52s\n",
      "203:\tlearn: 0.0486165\ttotal: 3.1s\tremaining: 4.5s\n",
      "204:\tlearn: 0.0483819\ttotal: 3.12s\tremaining: 4.48s\n",
      "205:\tlearn: 0.0480849\ttotal: 3.13s\tremaining: 4.47s\n",
      "206:\tlearn: 0.0478203\ttotal: 3.15s\tremaining: 4.45s\n",
      "207:\tlearn: 0.0473965\ttotal: 3.16s\tremaining: 4.43s\n",
      "208:\tlearn: 0.0470529\ttotal: 3.17s\tremaining: 4.42s\n",
      "209:\tlearn: 0.0466108\ttotal: 3.19s\tremaining: 4.4s\n",
      "210:\tlearn: 0.0461518\ttotal: 3.2s\tremaining: 4.38s\n",
      "211:\tlearn: 0.0458496\ttotal: 3.22s\tremaining: 4.37s\n",
      "212:\tlearn: 0.0453151\ttotal: 3.23s\tremaining: 4.35s\n",
      "213:\tlearn: 0.0449130\ttotal: 3.24s\tremaining: 4.33s\n",
      "214:\tlearn: 0.0445824\ttotal: 3.26s\tremaining: 4.32s\n",
      "215:\tlearn: 0.0442912\ttotal: 3.27s\tremaining: 4.3s\n",
      "216:\tlearn: 0.0439741\ttotal: 3.28s\tremaining: 4.28s\n",
      "217:\tlearn: 0.0437524\ttotal: 3.3s\tremaining: 4.26s\n",
      "218:\tlearn: 0.0436046\ttotal: 3.31s\tremaining: 4.25s\n",
      "219:\tlearn: 0.0432567\ttotal: 3.33s\tremaining: 4.23s\n",
      "220:\tlearn: 0.0430629\ttotal: 3.34s\tremaining: 4.22s\n",
      "221:\tlearn: 0.0428065\ttotal: 3.35s\tremaining: 4.2s\n",
      "222:\tlearn: 0.0425319\ttotal: 3.37s\tremaining: 4.18s\n",
      "223:\tlearn: 0.0421753\ttotal: 3.38s\tremaining: 4.17s\n",
      "224:\tlearn: 0.0419861\ttotal: 3.4s\tremaining: 4.15s\n",
      "225:\tlearn: 0.0417730\ttotal: 3.41s\tremaining: 4.13s\n",
      "226:\tlearn: 0.0415138\ttotal: 3.42s\tremaining: 4.12s\n",
      "227:\tlearn: 0.0412087\ttotal: 3.44s\tremaining: 4.1s\n",
      "228:\tlearn: 0.0406705\ttotal: 3.45s\tremaining: 4.08s\n",
      "229:\tlearn: 0.0404916\ttotal: 3.46s\tremaining: 4.07s\n",
      "230:\tlearn: 0.0403437\ttotal: 3.48s\tremaining: 4.05s\n",
      "231:\tlearn: 0.0399380\ttotal: 3.49s\tremaining: 4.03s\n",
      "232:\tlearn: 0.0396587\ttotal: 3.51s\tremaining: 4.02s\n",
      "233:\tlearn: 0.0395435\ttotal: 3.52s\tremaining: 4s\n",
      "234:\tlearn: 0.0390870\ttotal: 3.54s\tremaining: 3.99s\n",
      "235:\tlearn: 0.0387659\ttotal: 3.55s\tremaining: 3.97s\n",
      "236:\tlearn: 0.0385283\ttotal: 3.56s\tremaining: 3.96s\n",
      "237:\tlearn: 0.0382683\ttotal: 3.58s\tremaining: 3.94s\n",
      "238:\tlearn: 0.0380739\ttotal: 3.59s\tremaining: 3.92s\n",
      "239:\tlearn: 0.0379769\ttotal: 3.6s\tremaining: 3.9s\n",
      "240:\tlearn: 0.0376474\ttotal: 3.62s\tremaining: 3.89s\n",
      "241:\tlearn: 0.0374990\ttotal: 3.63s\tremaining: 3.87s\n",
      "242:\tlearn: 0.0372118\ttotal: 3.65s\tremaining: 3.86s\n",
      "243:\tlearn: 0.0370022\ttotal: 3.66s\tremaining: 3.84s\n",
      "244:\tlearn: 0.0367511\ttotal: 3.67s\tremaining: 3.82s\n",
      "245:\tlearn: 0.0365876\ttotal: 3.69s\tremaining: 3.81s\n",
      "246:\tlearn: 0.0362783\ttotal: 3.7s\tremaining: 3.79s\n",
      "247:\tlearn: 0.0359652\ttotal: 3.72s\tremaining: 3.77s\n",
      "248:\tlearn: 0.0358354\ttotal: 3.73s\tremaining: 3.76s\n",
      "249:\tlearn: 0.0355914\ttotal: 3.74s\tremaining: 3.74s\n",
      "250:\tlearn: 0.0352303\ttotal: 3.76s\tremaining: 3.73s\n",
      "251:\tlearn: 0.0351130\ttotal: 3.77s\tremaining: 3.71s\n",
      "252:\tlearn: 0.0347768\ttotal: 3.79s\tremaining: 3.7s\n",
      "253:\tlearn: 0.0345772\ttotal: 3.8s\tremaining: 3.68s\n",
      "254:\tlearn: 0.0343484\ttotal: 3.81s\tremaining: 3.67s\n",
      "255:\tlearn: 0.0341855\ttotal: 3.83s\tremaining: 3.65s\n",
      "256:\tlearn: 0.0339071\ttotal: 3.84s\tremaining: 3.63s\n",
      "257:\tlearn: 0.0337715\ttotal: 3.85s\tremaining: 3.62s\n",
      "258:\tlearn: 0.0335507\ttotal: 3.87s\tremaining: 3.6s\n",
      "259:\tlearn: 0.0333135\ttotal: 3.88s\tremaining: 3.58s\n",
      "260:\tlearn: 0.0330441\ttotal: 3.9s\tremaining: 3.57s\n",
      "261:\tlearn: 0.0327955\ttotal: 3.91s\tremaining: 3.55s\n",
      "262:\tlearn: 0.0326453\ttotal: 3.93s\tremaining: 3.54s\n",
      "263:\tlearn: 0.0324366\ttotal: 3.94s\tremaining: 3.52s\n",
      "264:\tlearn: 0.0322156\ttotal: 3.96s\tremaining: 3.51s\n",
      "265:\tlearn: 0.0318825\ttotal: 3.97s\tremaining: 3.49s\n",
      "266:\tlearn: 0.0317213\ttotal: 3.98s\tremaining: 3.48s\n",
      "267:\tlearn: 0.0314560\ttotal: 4s\tremaining: 3.46s\n",
      "268:\tlearn: 0.0313643\ttotal: 4.01s\tremaining: 3.45s\n",
      "269:\tlearn: 0.0311221\ttotal: 4.03s\tremaining: 3.43s\n",
      "270:\tlearn: 0.0308983\ttotal: 4.04s\tremaining: 3.42s\n",
      "271:\tlearn: 0.0306905\ttotal: 4.06s\tremaining: 3.4s\n",
      "272:\tlearn: 0.0304416\ttotal: 4.07s\tremaining: 3.39s\n",
      "273:\tlearn: 0.0302872\ttotal: 4.09s\tremaining: 3.37s\n",
      "274:\tlearn: 0.0301718\ttotal: 4.1s\tremaining: 3.36s\n",
      "275:\tlearn: 0.0300841\ttotal: 4.12s\tremaining: 3.34s\n",
      "276:\tlearn: 0.0299956\ttotal: 4.13s\tremaining: 3.33s\n",
      "277:\tlearn: 0.0297829\ttotal: 4.14s\tremaining: 3.31s\n",
      "278:\tlearn: 0.0296141\ttotal: 4.16s\tremaining: 3.29s\n",
      "279:\tlearn: 0.0295248\ttotal: 4.18s\tremaining: 3.28s\n",
      "280:\tlearn: 0.0292740\ttotal: 4.19s\tremaining: 3.27s\n",
      "281:\tlearn: 0.0291008\ttotal: 4.21s\tremaining: 3.25s\n",
      "282:\tlearn: 0.0289288\ttotal: 4.22s\tremaining: 3.24s\n",
      "283:\tlearn: 0.0287026\ttotal: 4.24s\tremaining: 3.22s\n",
      "284:\tlearn: 0.0285314\ttotal: 4.25s\tremaining: 3.21s\n",
      "285:\tlearn: 0.0284299\ttotal: 4.26s\tremaining: 3.19s\n",
      "286:\tlearn: 0.0283150\ttotal: 4.28s\tremaining: 3.17s\n",
      "287:\tlearn: 0.0282544\ttotal: 4.29s\tremaining: 3.16s\n",
      "288:\tlearn: 0.0280201\ttotal: 4.31s\tremaining: 3.14s\n",
      "289:\tlearn: 0.0277944\ttotal: 4.32s\tremaining: 3.13s\n",
      "290:\tlearn: 0.0277371\ttotal: 4.34s\tremaining: 3.11s\n",
      "291:\tlearn: 0.0275915\ttotal: 4.35s\tremaining: 3.1s\n",
      "292:\tlearn: 0.0274157\ttotal: 4.37s\tremaining: 3.08s\n",
      "293:\tlearn: 0.0272931\ttotal: 4.38s\tremaining: 3.07s\n",
      "294:\tlearn: 0.0271361\ttotal: 4.4s\tremaining: 3.06s\n",
      "295:\tlearn: 0.0269719\ttotal: 4.41s\tremaining: 3.04s\n",
      "296:\tlearn: 0.0268148\ttotal: 4.43s\tremaining: 3.03s\n",
      "297:\tlearn: 0.0265426\ttotal: 4.44s\tremaining: 3.01s\n",
      "298:\tlearn: 0.0263942\ttotal: 4.46s\tremaining: 3s\n",
      "299:\tlearn: 0.0263008\ttotal: 4.47s\tremaining: 2.98s\n",
      "300:\tlearn: 0.0261032\ttotal: 4.49s\tremaining: 2.96s\n",
      "301:\tlearn: 0.0259784\ttotal: 4.5s\tremaining: 2.95s\n",
      "302:\tlearn: 0.0258059\ttotal: 4.51s\tremaining: 2.93s\n",
      "303:\tlearn: 0.0256523\ttotal: 4.53s\tremaining: 2.92s\n",
      "304:\tlearn: 0.0255113\ttotal: 4.54s\tremaining: 2.9s\n",
      "305:\tlearn: 0.0253487\ttotal: 4.55s\tremaining: 2.89s\n",
      "306:\tlearn: 0.0251579\ttotal: 4.57s\tremaining: 2.87s\n",
      "307:\tlearn: 0.0250558\ttotal: 4.58s\tremaining: 2.86s\n",
      "308:\tlearn: 0.0249116\ttotal: 4.6s\tremaining: 2.84s\n",
      "309:\tlearn: 0.0248199\ttotal: 4.61s\tremaining: 2.83s\n",
      "310:\tlearn: 0.0247553\ttotal: 4.63s\tremaining: 2.81s\n",
      "311:\tlearn: 0.0246027\ttotal: 4.64s\tremaining: 2.79s\n",
      "312:\tlearn: 0.0244827\ttotal: 4.65s\tremaining: 2.78s\n",
      "313:\tlearn: 0.0243107\ttotal: 4.67s\tremaining: 2.76s\n",
      "314:\tlearn: 0.0241803\ttotal: 4.68s\tremaining: 2.75s\n",
      "315:\tlearn: 0.0240630\ttotal: 4.69s\tremaining: 2.73s\n",
      "316:\tlearn: 0.0239459\ttotal: 4.71s\tremaining: 2.72s\n",
      "317:\tlearn: 0.0237819\ttotal: 4.72s\tremaining: 2.7s\n",
      "318:\tlearn: 0.0236645\ttotal: 4.74s\tremaining: 2.69s\n",
      "319:\tlearn: 0.0235717\ttotal: 4.75s\tremaining: 2.67s\n",
      "320:\tlearn: 0.0234044\ttotal: 4.76s\tremaining: 2.65s\n",
      "321:\tlearn: 0.0232715\ttotal: 4.78s\tremaining: 2.64s\n",
      "322:\tlearn: 0.0231528\ttotal: 4.8s\tremaining: 2.63s\n",
      "323:\tlearn: 0.0230366\ttotal: 4.81s\tremaining: 2.61s\n",
      "324:\tlearn: 0.0229208\ttotal: 4.83s\tremaining: 2.6s\n",
      "325:\tlearn: 0.0227905\ttotal: 4.84s\tremaining: 2.58s\n",
      "326:\tlearn: 0.0226900\ttotal: 4.85s\tremaining: 2.57s\n",
      "327:\tlearn: 0.0225494\ttotal: 4.87s\tremaining: 2.55s\n",
      "328:\tlearn: 0.0223942\ttotal: 4.88s\tremaining: 2.54s\n",
      "329:\tlearn: 0.0222488\ttotal: 4.89s\tremaining: 2.52s\n",
      "330:\tlearn: 0.0221057\ttotal: 4.91s\tremaining: 2.5s\n",
      "331:\tlearn: 0.0219976\ttotal: 4.92s\tremaining: 2.49s\n",
      "332:\tlearn: 0.0219117\ttotal: 4.93s\tremaining: 2.47s\n",
      "333:\tlearn: 0.0217370\ttotal: 4.95s\tremaining: 2.46s\n",
      "334:\tlearn: 0.0216124\ttotal: 4.96s\tremaining: 2.44s\n",
      "335:\tlearn: 0.0215608\ttotal: 4.97s\tremaining: 2.43s\n"
     ]
    },
    {
     "name": "stdout",
     "output_type": "stream",
     "text": [
      "336:\tlearn: 0.0214504\ttotal: 4.99s\tremaining: 2.41s\n",
      "337:\tlearn: 0.0214095\ttotal: 5.01s\tremaining: 2.4s\n",
      "338:\tlearn: 0.0213030\ttotal: 5.02s\tremaining: 2.38s\n",
      "339:\tlearn: 0.0212051\ttotal: 5.03s\tremaining: 2.37s\n",
      "340:\tlearn: 0.0210746\ttotal: 5.05s\tremaining: 2.35s\n",
      "341:\tlearn: 0.0209425\ttotal: 5.06s\tremaining: 2.34s\n",
      "342:\tlearn: 0.0208367\ttotal: 5.07s\tremaining: 2.32s\n",
      "343:\tlearn: 0.0207329\ttotal: 5.09s\tremaining: 2.31s\n",
      "344:\tlearn: 0.0206197\ttotal: 5.1s\tremaining: 2.29s\n",
      "345:\tlearn: 0.0204670\ttotal: 5.12s\tremaining: 2.28s\n",
      "346:\tlearn: 0.0203833\ttotal: 5.13s\tremaining: 2.26s\n",
      "347:\tlearn: 0.0202795\ttotal: 5.14s\tremaining: 2.25s\n",
      "348:\tlearn: 0.0201678\ttotal: 5.16s\tremaining: 2.23s\n",
      "349:\tlearn: 0.0200420\ttotal: 5.17s\tremaining: 2.21s\n",
      "350:\tlearn: 0.0199685\ttotal: 5.18s\tremaining: 2.2s\n",
      "351:\tlearn: 0.0198763\ttotal: 5.2s\tremaining: 2.18s\n",
      "352:\tlearn: 0.0197753\ttotal: 5.21s\tremaining: 2.17s\n",
      "353:\tlearn: 0.0196784\ttotal: 5.22s\tremaining: 2.15s\n",
      "354:\tlearn: 0.0195661\ttotal: 5.24s\tremaining: 2.14s\n",
      "355:\tlearn: 0.0194343\ttotal: 5.25s\tremaining: 2.12s\n",
      "356:\tlearn: 0.0193975\ttotal: 5.26s\tremaining: 2.11s\n",
      "357:\tlearn: 0.0193030\ttotal: 5.28s\tremaining: 2.09s\n",
      "358:\tlearn: 0.0192405\ttotal: 5.29s\tremaining: 2.08s\n",
      "359:\tlearn: 0.0191735\ttotal: 5.31s\tremaining: 2.06s\n",
      "360:\tlearn: 0.0190818\ttotal: 5.32s\tremaining: 2.05s\n",
      "361:\tlearn: 0.0190222\ttotal: 5.33s\tremaining: 2.03s\n",
      "362:\tlearn: 0.0189878\ttotal: 5.35s\tremaining: 2.02s\n",
      "363:\tlearn: 0.0188737\ttotal: 5.36s\tremaining: 2s\n",
      "364:\tlearn: 0.0187724\ttotal: 5.37s\tremaining: 1.99s\n",
      "365:\tlearn: 0.0186760\ttotal: 5.39s\tremaining: 1.97s\n",
      "366:\tlearn: 0.0185837\ttotal: 5.4s\tremaining: 1.96s\n",
      "367:\tlearn: 0.0184972\ttotal: 5.42s\tremaining: 1.94s\n",
      "368:\tlearn: 0.0184449\ttotal: 5.43s\tremaining: 1.93s\n",
      "369:\tlearn: 0.0184087\ttotal: 5.44s\tremaining: 1.91s\n",
      "370:\tlearn: 0.0183343\ttotal: 5.46s\tremaining: 1.9s\n",
      "371:\tlearn: 0.0182215\ttotal: 5.47s\tremaining: 1.88s\n",
      "372:\tlearn: 0.0181626\ttotal: 5.48s\tremaining: 1.87s\n",
      "373:\tlearn: 0.0180421\ttotal: 5.5s\tremaining: 1.85s\n",
      "374:\tlearn: 0.0179250\ttotal: 5.51s\tremaining: 1.84s\n",
      "375:\tlearn: 0.0178380\ttotal: 5.53s\tremaining: 1.82s\n",
      "376:\tlearn: 0.0177712\ttotal: 5.54s\tremaining: 1.81s\n",
      "377:\tlearn: 0.0177189\ttotal: 5.55s\tremaining: 1.79s\n",
      "378:\tlearn: 0.0176316\ttotal: 5.57s\tremaining: 1.78s\n",
      "379:\tlearn: 0.0175580\ttotal: 5.58s\tremaining: 1.76s\n",
      "380:\tlearn: 0.0174790\ttotal: 5.59s\tremaining: 1.75s\n",
      "381:\tlearn: 0.0174531\ttotal: 5.61s\tremaining: 1.73s\n",
      "382:\tlearn: 0.0174266\ttotal: 5.62s\tremaining: 1.72s\n",
      "383:\tlearn: 0.0173324\ttotal: 5.63s\tremaining: 1.7s\n",
      "384:\tlearn: 0.0172469\ttotal: 5.65s\tremaining: 1.69s\n",
      "385:\tlearn: 0.0172076\ttotal: 5.66s\tremaining: 1.67s\n",
      "386:\tlearn: 0.0171542\ttotal: 5.67s\tremaining: 1.66s\n",
      "387:\tlearn: 0.0170657\ttotal: 5.69s\tremaining: 1.64s\n",
      "388:\tlearn: 0.0169726\ttotal: 5.7s\tremaining: 1.63s\n",
      "389:\tlearn: 0.0168823\ttotal: 5.71s\tremaining: 1.61s\n",
      "390:\tlearn: 0.0168173\ttotal: 5.73s\tremaining: 1.6s\n",
      "391:\tlearn: 0.0167709\ttotal: 5.74s\tremaining: 1.58s\n",
      "392:\tlearn: 0.0166651\ttotal: 5.76s\tremaining: 1.57s\n",
      "393:\tlearn: 0.0165781\ttotal: 5.77s\tremaining: 1.55s\n",
      "394:\tlearn: 0.0165202\ttotal: 5.78s\tremaining: 1.54s\n",
      "395:\tlearn: 0.0164966\ttotal: 5.8s\tremaining: 1.52s\n",
      "396:\tlearn: 0.0164282\ttotal: 5.81s\tremaining: 1.51s\n",
      "397:\tlearn: 0.0163743\ttotal: 5.82s\tremaining: 1.49s\n",
      "398:\tlearn: 0.0163178\ttotal: 5.84s\tremaining: 1.48s\n",
      "399:\tlearn: 0.0162681\ttotal: 5.85s\tremaining: 1.46s\n",
      "400:\tlearn: 0.0162126\ttotal: 5.86s\tremaining: 1.45s\n",
      "401:\tlearn: 0.0161673\ttotal: 5.88s\tremaining: 1.43s\n",
      "402:\tlearn: 0.0161119\ttotal: 5.89s\tremaining: 1.42s\n",
      "403:\tlearn: 0.0159969\ttotal: 5.9s\tremaining: 1.4s\n",
      "404:\tlearn: 0.0159261\ttotal: 5.92s\tremaining: 1.39s\n",
      "405:\tlearn: 0.0158463\ttotal: 5.93s\tremaining: 1.37s\n",
      "406:\tlearn: 0.0157786\ttotal: 5.94s\tremaining: 1.36s\n",
      "407:\tlearn: 0.0156647\ttotal: 5.96s\tremaining: 1.34s\n",
      "408:\tlearn: 0.0156344\ttotal: 5.97s\tremaining: 1.33s\n",
      "409:\tlearn: 0.0155538\ttotal: 5.98s\tremaining: 1.31s\n",
      "410:\tlearn: 0.0154899\ttotal: 6s\tremaining: 1.3s\n",
      "411:\tlearn: 0.0153979\ttotal: 6.01s\tremaining: 1.28s\n",
      "412:\tlearn: 0.0153656\ttotal: 6.03s\tremaining: 1.27s\n",
      "413:\tlearn: 0.0152843\ttotal: 6.04s\tremaining: 1.25s\n",
      "414:\tlearn: 0.0152104\ttotal: 6.05s\tremaining: 1.24s\n",
      "415:\tlearn: 0.0151559\ttotal: 6.07s\tremaining: 1.23s\n",
      "416:\tlearn: 0.0151109\ttotal: 6.08s\tremaining: 1.21s\n",
      "417:\tlearn: 0.0150726\ttotal: 6.09s\tremaining: 1.2s\n",
      "418:\tlearn: 0.0149851\ttotal: 6.11s\tremaining: 1.18s\n",
      "419:\tlearn: 0.0149338\ttotal: 6.12s\tremaining: 1.17s\n",
      "420:\tlearn: 0.0148822\ttotal: 6.13s\tremaining: 1.15s\n",
      "421:\tlearn: 0.0148348\ttotal: 6.15s\tremaining: 1.14s\n",
      "422:\tlearn: 0.0147899\ttotal: 6.16s\tremaining: 1.12s\n",
      "423:\tlearn: 0.0147688\ttotal: 6.18s\tremaining: 1.11s\n",
      "424:\tlearn: 0.0147170\ttotal: 6.19s\tremaining: 1.09s\n",
      "425:\tlearn: 0.0146638\ttotal: 6.2s\tremaining: 1.08s\n",
      "426:\tlearn: 0.0145913\ttotal: 6.22s\tremaining: 1.06s\n",
      "427:\tlearn: 0.0145605\ttotal: 6.23s\tremaining: 1.05s\n",
      "428:\tlearn: 0.0144974\ttotal: 6.25s\tremaining: 1.03s\n",
      "429:\tlearn: 0.0144015\ttotal: 6.26s\tremaining: 1.02s\n",
      "430:\tlearn: 0.0143617\ttotal: 6.27s\tremaining: 1s\n",
      "431:\tlearn: 0.0143046\ttotal: 6.29s\tremaining: 990ms\n",
      "432:\tlearn: 0.0142736\ttotal: 6.3s\tremaining: 975ms\n",
      "433:\tlearn: 0.0142119\ttotal: 6.31s\tremaining: 960ms\n",
      "434:\tlearn: 0.0141361\ttotal: 6.33s\tremaining: 946ms\n",
      "435:\tlearn: 0.0140840\ttotal: 6.34s\tremaining: 931ms\n",
      "436:\tlearn: 0.0140212\ttotal: 6.35s\tremaining: 916ms\n",
      "437:\tlearn: 0.0139688\ttotal: 6.37s\tremaining: 901ms\n",
      "438:\tlearn: 0.0139446\ttotal: 6.38s\tremaining: 887ms\n",
      "439:\tlearn: 0.0138780\ttotal: 6.39s\tremaining: 872ms\n",
      "440:\tlearn: 0.0138565\ttotal: 6.41s\tremaining: 857ms\n",
      "441:\tlearn: 0.0137697\ttotal: 6.42s\tremaining: 843ms\n",
      "442:\tlearn: 0.0137314\ttotal: 6.44s\tremaining: 828ms\n",
      "443:\tlearn: 0.0136627\ttotal: 6.45s\tremaining: 814ms\n",
      "444:\tlearn: 0.0136190\ttotal: 6.46s\tremaining: 799ms\n",
      "445:\tlearn: 0.0135838\ttotal: 6.48s\tremaining: 784ms\n",
      "446:\tlearn: 0.0135231\ttotal: 6.49s\tremaining: 770ms\n",
      "447:\tlearn: 0.0134472\ttotal: 6.5s\tremaining: 755ms\n",
      "448:\tlearn: 0.0133862\ttotal: 6.52s\tremaining: 740ms\n",
      "449:\tlearn: 0.0133241\ttotal: 6.53s\tremaining: 726ms\n",
      "450:\tlearn: 0.0132422\ttotal: 6.55s\tremaining: 711ms\n",
      "451:\tlearn: 0.0132039\ttotal: 6.56s\tremaining: 697ms\n",
      "452:\tlearn: 0.0131513\ttotal: 6.57s\tremaining: 682ms\n",
      "453:\tlearn: 0.0131267\ttotal: 6.59s\tremaining: 667ms\n",
      "454:\tlearn: 0.0130788\ttotal: 6.6s\tremaining: 653ms\n",
      "455:\tlearn: 0.0130078\ttotal: 6.61s\tremaining: 638ms\n",
      "456:\tlearn: 0.0129507\ttotal: 6.63s\tremaining: 624ms\n",
      "457:\tlearn: 0.0129057\ttotal: 6.64s\tremaining: 609ms\n",
      "458:\tlearn: 0.0128524\ttotal: 6.66s\tremaining: 594ms\n",
      "459:\tlearn: 0.0128204\ttotal: 6.67s\tremaining: 580ms\n",
      "460:\tlearn: 0.0127845\ttotal: 6.68s\tremaining: 565ms\n",
      "461:\tlearn: 0.0127404\ttotal: 6.7s\tremaining: 551ms\n",
      "462:\tlearn: 0.0127076\ttotal: 6.71s\tremaining: 536ms\n",
      "463:\tlearn: 0.0126438\ttotal: 6.72s\tremaining: 522ms\n",
      "464:\tlearn: 0.0125928\ttotal: 6.74s\tremaining: 507ms\n",
      "465:\tlearn: 0.0125500\ttotal: 6.75s\tremaining: 492ms\n",
      "466:\tlearn: 0.0125097\ttotal: 6.76s\tremaining: 478ms\n",
      "467:\tlearn: 0.0124555\ttotal: 6.78s\tremaining: 463ms\n",
      "468:\tlearn: 0.0124026\ttotal: 6.79s\tremaining: 449ms\n",
      "469:\tlearn: 0.0123917\ttotal: 6.8s\tremaining: 434ms\n",
      "470:\tlearn: 0.0123452\ttotal: 6.81s\tremaining: 420ms\n",
      "471:\tlearn: 0.0122968\ttotal: 6.83s\tremaining: 405ms\n",
      "472:\tlearn: 0.0122341\ttotal: 6.84s\tremaining: 391ms\n",
      "473:\tlearn: 0.0122080\ttotal: 6.86s\tremaining: 376ms\n",
      "474:\tlearn: 0.0121444\ttotal: 6.87s\tremaining: 362ms\n",
      "475:\tlearn: 0.0121027\ttotal: 6.88s\tremaining: 347ms\n",
      "476:\tlearn: 0.0120512\ttotal: 6.9s\tremaining: 333ms\n",
      "477:\tlearn: 0.0120148\ttotal: 6.91s\tremaining: 318ms\n",
      "478:\tlearn: 0.0119851\ttotal: 6.92s\tremaining: 304ms\n",
      "479:\tlearn: 0.0119430\ttotal: 6.94s\tremaining: 289ms\n",
      "480:\tlearn: 0.0118863\ttotal: 6.95s\tremaining: 275ms\n",
      "481:\tlearn: 0.0118605\ttotal: 6.96s\tremaining: 260ms\n",
      "482:\tlearn: 0.0118448\ttotal: 6.98s\tremaining: 246ms\n",
      "483:\tlearn: 0.0117893\ttotal: 6.99s\tremaining: 231ms\n",
      "484:\tlearn: 0.0117562\ttotal: 7s\tremaining: 217ms\n",
      "485:\tlearn: 0.0117010\ttotal: 7.02s\tremaining: 202ms\n",
      "486:\tlearn: 0.0116505\ttotal: 7.03s\tremaining: 188ms\n",
      "487:\tlearn: 0.0116109\ttotal: 7.04s\tremaining: 173ms\n",
      "488:\tlearn: 0.0115716\ttotal: 7.06s\tremaining: 159ms\n",
      "489:\tlearn: 0.0115317\ttotal: 7.07s\tremaining: 144ms\n",
      "490:\tlearn: 0.0115090\ttotal: 7.08s\tremaining: 130ms\n",
      "491:\tlearn: 0.0114667\ttotal: 7.1s\tremaining: 115ms\n",
      "492:\tlearn: 0.0114156\ttotal: 7.11s\tremaining: 101ms\n",
      "493:\tlearn: 0.0113720\ttotal: 7.13s\tremaining: 86.5ms\n",
      "494:\tlearn: 0.0113136\ttotal: 7.14s\tremaining: 72.1ms\n",
      "495:\tlearn: 0.0112906\ttotal: 7.15s\tremaining: 57.7ms\n",
      "496:\tlearn: 0.0112582\ttotal: 7.17s\tremaining: 43.3ms\n",
      "497:\tlearn: 0.0111968\ttotal: 7.18s\tremaining: 28.8ms\n",
      "498:\tlearn: 0.0111608\ttotal: 7.19s\tremaining: 14.4ms\n",
      "499:\tlearn: 0.0111325\ttotal: 7.21s\tremaining: 0us\n"
     ]
    },
    {
     "data": {
      "text/plain": [
       "<catboost.core.CatBoostClassifier at 0x7fc040bed250>"
      ]
     },
     "execution_count": 91,
     "metadata": {},
     "output_type": "execute_result"
    }
   ],
   "source": [
    "model.fit(train_x,train_y)"
   ]
  },
  {
   "cell_type": "code",
   "execution_count": 92,
   "metadata": {},
   "outputs": [],
   "source": [
    "y_hat_cat = model.predict(test_x)"
   ]
  },
  {
   "cell_type": "code",
   "execution_count": 93,
   "metadata": {},
   "outputs": [
    {
     "data": {
      "text/plain": [
       "0.9618279569892473"
      ]
     },
     "execution_count": 93,
     "metadata": {},
     "output_type": "execute_result"
    }
   ],
   "source": [
    "accuracy_score(test_y, y_hat_cat)"
   ]
  },
  {
   "cell_type": "code",
   "execution_count": null,
   "metadata": {},
   "outputs": [],
   "source": []
  }
 ],
 "metadata": {
  "kernelspec": {
   "display_name": "Python 3 (ipykernel)",
   "language": "python",
   "name": "python3"
  },
  "language_info": {
   "codemirror_mode": {
    "name": "ipython",
    "version": 3
   },
   "file_extension": ".py",
   "mimetype": "text/x-python",
   "name": "python",
   "nbconvert_exporter": "python",
   "pygments_lexer": "ipython3",
   "version": "3.8.10"
  }
 },
 "nbformat": 4,
 "nbformat_minor": 2
}
